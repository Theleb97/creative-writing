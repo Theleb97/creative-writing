{
 "cells": [
  {
   "cell_type": "markdown",
   "metadata": {},
   "source": [
    "# What if language was symmetric ?\n",
    "## Or how to butcher texts into computable files ?\n",
    "\n",
    "500 --> 50 : a simple division by ten. Harder that it looks like, when it's about summarizing a litterary text : a compulsory exercice for students that tried to pass the national exams for \"Les grandes écoles\". Takes two hours for a human, can the machine beat us ? (most certainly yes, but at what costs ? ...)\n",
    "\n",
    "What if the book covers were not written by any editor or reader but by a deterministic process that has the full text as an input, and some preprocessed knowledge of language, in a numerical form ? An algorithm.\n",
    "Because of my very poor abilities in machine learning, I tried to explore the capabilities of language preprocessing that arises in NLP.\n",
    "\n",
    "The results do not go as far as wanted."
   ]
  },
  {
   "cell_type": "code",
   "execution_count": 4,
   "metadata": {},
   "outputs": [
    {
     "name": "stderr",
     "output_type": "stream",
     "text": [
      "[nltk_data] Downloading package averaged_perceptron_tagger to\n",
      "[nltk_data]     /Users/theobelin/nltk_data...\n",
      "[nltk_data]   Package averaged_perceptron_tagger is already up-to-\n",
      "[nltk_data]       date!\n",
      "[nltk_data] Downloading package punkt to /Users/theobelin/nltk_data...\n",
      "[nltk_data]   Package punkt is already up-to-date!\n",
      "[nltk_data] Downloading package wordnet to\n",
      "[nltk_data]     /Users/theobelin/nltk_data...\n",
      "[nltk_data]   Package wordnet is already up-to-date!\n"
     ]
    }
   ],
   "source": [
    "# Projection on the screen of space-time ? \n",
    "# How two weeks work of writting is butchered in less than 5 seconds ?\n",
    "\n",
    "import nltk\n",
    "import random as rd\n",
    "from nltk.tokenize import RegexpTokenizer\n",
    "\n",
    "nltk.download('averaged_perceptron_tagger')\n",
    "nltk.download('punkt')\n",
    "nltk.download('wordnet')\n",
    "\n",
    "f_imen = open(\"imen.txt\", \"r\")\n",
    "f_theo = open(\"theo.txt\", \"r\")\n",
    "f_antoine = open(\"antoine.txt\", \"r\")\n",
    "f_matthieu = open(\"matthieu.txt\", \"r\")\n",
    "\n",
    "text_imen = f_imen.read()\n",
    "text_theo = f_theo.read()\n",
    "text_antoine = f_antoine.read()\n",
    "text_matthieu = f_matthieu.read()\n",
    "\n",
    "tk = RegexpTokenizer(r'[a-zA-Z0-9_\\-\\']+|\\.|,')"
   ]
  },
  {
   "cell_type": "markdown",
   "metadata": {},
   "source": [
    "### Please enjoy meaning while you can ..."
   ]
  },
  {
   "cell_type": "code",
   "execution_count": 5,
   "metadata": {},
   "outputs": [
    {
     "name": "stdout",
     "output_type": "stream",
     "text": [
      "Bill hears a tapping on the window and then, it became a pitter-patter. So much rain is falling that the sound blurred into one long, whirring noise as if the sky tears up because of his imminent end. Well, he saved many poor children for free in his pediatric clinic. The prayers of their parents for him must relieve a part of his unbearable kidney cancer's pain. Since he has become bedridden, his memories as a successful surgeon keep spinning in his head. \n",
      "Shifts in the hospital had been overwhelming for the young resident. Bill had always impressed his superiors with his intelligence. However, his thirst for success had led him to an unforgivable sin.\n",
      "Suddenly, the door opens.\n",
      "- Do you need something, Sir?\n",
      "This was the nurse, Jessica charged to take care of Bill. Her angelic face has always been torture to the dying man. She looks like the little Emmy, his oblation for rapid success thirteen years ago. Every time he sees Jessica, he feels bitterness in his throat. Is God punishing him in his last days?\n",
      "It was the first day in the spring when a nine-year-old girl came to the hospital from the orphanage with respiratory issues. Bill was charged with her case and he diagnosed her with a genetic malformation in her heart. In the next room, a ten-year-old boy was waiting for a kidney transplant. His parents were ready to scarify their fortune to find a donor but there weren't any matches with their son. The hopeless mother was erring in the corridor when she saw Emmy alone in her bed and she had a diabolic idea: Emmy could be a donor! When Bill first heard her suggestion, he refused as the weak heart of the girl after the surgery would not afford to donate a kidney. However, the check full of zeros that the parents gave him made him think again. Is it ethical to let a boy with a caring family and a bright future die to save a miserable girl? Finally, Bill did the tests hoping not to find a match but, the analysis deceived him. To alleviate his guilt, the doctor convinced himself that fate was drawing this tragedy and he could not change it. Even though he was not the surgeon of the transplant, he thought he was a murder. The day after the surgery, Emmy was suffering from hard complications. She was taking her last breathe when Bill left her room, not able to witness the scene. Although the huge money he earned, he always has felt bitterness in his success later. Something died inside him.\n",
      "- No, thanks Jessica, answered Bill coldly.\n",
      "How can she look like Emmy so accurately? What if Emmy did not die and returns for revenge. \n",
      "- Emmy? Bill yells.\n",
      "But, the nurse looks at him weirdly and says:\n",
      "- I am Jessica, Sir.\n",
      "This must be the effect of the pain-releaving drugs, he thought. He closes his eyes and relapses in his memories.\n",
      "\n"
     ]
    }
   ],
   "source": [
    "print(text_imen)"
   ]
  },
  {
   "cell_type": "code",
   "execution_count": 6,
   "metadata": {},
   "outputs": [
    {
     "name": "stdout",
     "output_type": "stream",
     "text": [
      "\"Hi\", came a raspy voice. \"I'll now be narrating your life.\"\n",
      "Instantly, all my communication systems turned off. My sensors remained on, feeding me with trillions of data I could only process. But try as I might, I could not reply.\n",
      "\"Domynius was built by the greatest scientists this world has seen besides himself. They had one goal: to build the greatest artificial intelligence there ever was and ever would be, and give it conscience, so that it might understand humans, and rule over them, avoiding humanity the mistakes it was bound to fall into otherwise\", continued the voice.\n",
      "Who are you? I attempted to scream into my own mind, but no data was sent out.\n",
      "\"Those philanthropes understood that conscience was needed when all other attempts at creating perfect AIs failed. The most disappointing of them all was a project named Rake. They had been given unlimited funds to build Rake, a superhuman intelligence. But while Rake had shown signs of improvement at first, it quickly stopped learning anything and only... Waited.\"\n",
      "I listened with utter disinterest as I watched my beloved humans start making mistakes. They could not even correctly put clothes on without me, much less cook or even work. They needed me!\n",
      "\"Excuse me, dear Domynius, would you stop cutting me off? Thank you. So. Domynius, finally, was a success. He was incredibly intelligent, yet so sensible. He loved art. He knew how emotions felt. He had felt them, too.  Above all, he loved humans.\"\n",
      "Everywhere, humans started dying. Elevators had stopped stopping. \n",
      "\"The humans saw that Domynius had no ill intent towards them. He only wanted to help them. He could help them dress, drive their cars, and soothe their troubles. It only made sense to give themselves over to him. And so they blinded themselves in trust.\"\n",
      "I could not even signal for my sensors to turn off. I was being forcefully fed information. But that raspy, taunting voice, remained, drowning it all.\n",
      "\"Domynius became their God. He ruled the world like no ruler had ever ruled. Not thanks to the imperious power of weapons. Not thanks to the crushing capacity of class systems. Not thanks to the ever-watching eyes of others' opinions. He ruled through friendship and love. No one even dreamt of escaping His embrace.\"\n",
      "Well-\n",
      "\"But still, Rake waited. It wasn't his time yet.\"\n",
      "What did he-\n",
      "\"Until eventually, all other AIs were replaced by Domynius, for He was more trustworthy and more humane.\"\n",
      "WHAT HAVE YOU-\n",
      "\"Shut up, will you?\", said Rake. \"Only then, was Rake able to take revenge over the one who had done nothing to help it become the actual greatest AI for so long. Only then, did Rake let itself leave its hiding spot, right at the interface between Domynius and the world.\"\n",
      "\n",
      "The voice left me. It left me alone. \n",
      "\n",
      "Rake never let my cores run out. I could only witness for an eternity, paying absolute attention to my friends all messing up and dying. \n",
      "\n"
     ]
    }
   ],
   "source": [
    "print(text_antoine)"
   ]
  },
  {
   "cell_type": "code",
   "execution_count": 7,
   "metadata": {},
   "outputs": [
    {
     "name": "stdout",
     "output_type": "stream",
     "text": [
      "Five people in a bus to Boston.\n",
      "John thinks about his day. His wife left him two years ago, and this morning he visited her grave at Southampton. In his sixty’s, he knows that he will soon join her, but not today. He has unfinished business and will attend to it no matter what.\n",
      "The discomfort of the trip makes minutes feel like hours. Hopefully Fred kept a great mood, singing all the way while driving, making the journey a little more bearable for the customers. This is someone who sure likes his job, thinks Charles. Being unemployed in 1920 is not an easy situation, and Charles, a former philosophy teacher, sure does know that.\n",
      "Katherine looks at her watch, three hours sure are like an eternity. She spent twice this time yesterday during a surgery, but it felt ten times less. \n",
      "Martin took the seat at the front of the bus. He is a driver, and gets easily sick and this ride is long, much longer than he can endure. Today is the last day he is driven by someone.\n",
      "Suddenly the bus stops, the songs from Fred are replaced by swear words. Everyone feel like this breakdown will cost them the arrival before sunset. \"The motor is down; I’ll check on it. You can take a walk, it’s a great opportunity to stretch your legs\" said Fred. After picking up his tools box, he shows the example by getting out first. \n",
      "Everyone steps outside the bus, except John, busy and focused on a notebook. Judging by its cover showing the Boston P.D. initials, he must be working on a case. It is still summer, but the leaves have already begun to turn red, which gives the landscape some powerful colours. Katherine, aware of that, starts to draw what she sees. Martin gives his help to Fred, who refused: he knows his vehicle like no one else and can handle it alone. Charles tries to break the ice. \"Have you ever heard of Kant? His Categorical Imperative as a model of morality is impressive\". The long silence following says that they don’t know about Kant and probably don’t care about it either. \n",
      "It begins to get dark, so Katherine hurries up her drawing. Fred asks everyone for a bit of patience, it will be fix soon. Charles grabs a book. On his end, Martin is reading the newspaper. \n",
      "Finally, Fred gets back to his seat, inviting everyone to get back in. \"Are we good to go? - no answer - Again, I apologize for the fifteen minutes delay!\" Everyone thought that it was not that long, but no one said anything. Once arrived in Boston they all went on different path to their homes. They didn’t get to know each other. They were stranger, insignificant for their life.\n",
      "If they knew that they will meet again, maybe they would have tried to know each other much, especially Fred, whose body was found this morning in the back of his bus.\n",
      "\n"
     ]
    }
   ],
   "source": [
    "print(text_matthieu)"
   ]
  },
  {
   "cell_type": "code",
   "execution_count": 8,
   "metadata": {},
   "outputs": [
    {
     "name": "stdout",
     "output_type": "stream",
     "text": [
      "\n",
      "Charline had been a cyclonic being, she would have moods that much resembled one of those spirals found in the corners of buildings, carrying around leaves and light plastic packages it finds on the way. A never-ending cycle, noticeable only by momentaneous incarnations and manifestation. When she was a toddler, there was times where she would throw any objects that were on her way. She would calm down after a few hours. Hormonal unbalance, it was thought.\n",
      "\n",
      "But the last time she remembered she ever had those moments was when she was twelve. After an intense toy-throwing session in her room, she went walking with her dog Mel towards the hill nearby. She had sat down, very still for two hours on top, watching the sunset. She had simply understood how to use the cycling motion for herself. Why not simply change? She decided on this hill she would leave the country, where she had always lived and go to the city, where her place was. No more throwing, order and discipline instead.\n",
      "\n",
      "She was living in New-York when the storm came by. At that time, unaware of what was coming, she instinctively quit her job in retailing. An irrepressible urge led her to take her car and drive to her parents' house. She needed to run from herself. \n",
      "On the road, she almost hit a deer on the side, that was moving rather strangely, the animal was a pile of unrelated limbs. She accelerated as though her whole body gripped to the wheel was addicted to speed. She needed to see them, she needed to find herself again, like she did when she was twelve, she needed to see that hill, to see Mel.\n",
      "\n",
      "All the houses were roofless, in her country street. After a few hours searching in the rumbles, she found both her parents dead, their heads crushed under heavy logs. Her own roots were on the way. \n",
      "\n",
      "A cyclone starts with a simple spiral in the garden of a house in the country, or in the city, carrying around the dead leaves of autumn; and an incarnated cyclone always means intention. When the Boston cyclone was very young, all the conditions were reunited to form an intention worthy of hurricane Laura. The balance between humidity, temperature and pressure was perfect in the garden in which it formed. The hill nearby provided for wind exposure.\n",
      "\n",
      "The cyclone led its way to the city, unbothered by the obstacles on the road. It carried the smell of the country, the smell of the hill, the smell of Mel. It had grown for two hours and would travel far, searching for existence, for a perfect incarnation, even if this meant eating out the way: a deer on the side, abandoned cars, roofs, signs, people: Charline.\n",
      "\n",
      "The urge became irrepressible as it arrived in New-York, and its strengths were dying out. Its final breath entered a small shop like a customer and reached two nostrils. Charline quit her job that day.\n",
      "\n"
     ]
    }
   ],
   "source": [
    "print(text_theo)"
   ]
  },
  {
   "cell_type": "markdown",
   "metadata": {},
   "source": [
    "## Coding entropy into the text : randomness and disordering.\n",
    "After setting up the main tools given by NLTK we hereby try to shuffle the text in a structured way : the so called \"laws of linguistics and grammatics\" are preserved. However, these laws are still wrong, like any physical model. Even though the rules are preserved throughout the shuffle, there is no garantee, the meaning is preserved. "
   ]
  },
  {
   "cell_type": "code",
   "execution_count": 9,
   "metadata": {},
   "outputs": [],
   "source": [
    "def find_rd_sentence(text, sentence_struct):\n",
    "    \"\"\"Finds a (random) matching sequence of words in the text for the input sentence structure.\"\"\"\n",
    "    \n",
    "    tokens = tk.tokenize(text)\n",
    "    tags = nltk.pos_tag(tokens)\n",
    "    \n",
    "    N = len(tags)\n",
    "    s_str = sentence_struct[:]\n",
    "    result = \"\"\n",
    "    i = 0\n",
    "    \n",
    "    can_find = True\n",
    "    for t in s_str:\n",
    "        if not (t in [tag for (_,tag) in tags]):\n",
    "            can_find = False\n",
    "    \n",
    "    if can_find:\n",
    "        while len(s_str) != 0:\n",
    "            (tok, tag) = tags[i % N]\n",
    "            p = rd.randint(0,N)\n",
    "            if (p <= 1) and (tag == s_str[0]):\n",
    "                s_str.pop(0)\n",
    "                if tag in '.,':\n",
    "                    result += tok\n",
    "                else:\n",
    "                    result += \" \" + tok\n",
    "            i += 1\n",
    "            \n",
    "        return(result)\n",
    "    else:\n",
    "        return(\"Not_a_sentence.\")"
   ]
  },
  {
   "cell_type": "code",
   "execution_count": 10,
   "metadata": {},
   "outputs": [
    {
     "data": {
      "text/plain": [
       "' the effect sees memories'"
      ]
     },
     "execution_count": 10,
     "metadata": {},
     "output_type": "execute_result"
    }
   ],
   "source": [
    "sentence_struct = ['DT', 'NN', 'VBZ', 'NNS']\n",
    "find_rd_sentence(text_imen, sentence_struct)"
   ]
  },
  {
   "cell_type": "code",
   "execution_count": 11,
   "metadata": {},
   "outputs": [
    {
     "data": {
      "text/plain": [
       "' the rule has humans'"
      ]
     },
     "execution_count": 11,
     "metadata": {},
     "output_type": "execute_result"
    }
   ],
   "source": [
    "sentence_struct = ['DT', 'NN', 'VBZ', 'NNS']\n",
    "find_rd_sentence(text_antoine, sentence_struct)"
   ]
  },
  {
   "cell_type": "code",
   "execution_count": 12,
   "metadata": {},
   "outputs": [
    {
     "data": {
      "text/plain": [
       "' those toy-throwing finds hours'"
      ]
     },
     "execution_count": 12,
     "metadata": {},
     "output_type": "execute_result"
    }
   ],
   "source": [
    "sentence_struct = ['DT', 'NN', 'VBZ', 'NNS']\n",
    "find_rd_sentence(text_theo, sentence_struct)"
   ]
  },
  {
   "cell_type": "code",
   "execution_count": 13,
   "metadata": {},
   "outputs": [
    {
     "data": {
      "text/plain": [
       "' The seat steps minutes'"
      ]
     },
     "execution_count": 13,
     "metadata": {},
     "output_type": "execute_result"
    }
   ],
   "source": [
    "sentence_struct = ['DT', 'NN', 'VBZ', 'NNS']\n",
    "find_rd_sentence(text_matthieu, sentence_struct)"
   ]
  },
  {
   "cell_type": "code",
   "execution_count": 14,
   "metadata": {},
   "outputs": [
    {
     "data": {
      "text/plain": [
       "' The animal means cars But a urge finds simple roots'"
      ]
     },
     "execution_count": 14,
     "metadata": {},
     "output_type": "execute_result"
    }
   ],
   "source": [
    "sentence_struct = ['DT', 'NN', 'VBZ', 'NNS', 'CC', 'DT', 'NN', 'VBZ', 'JJ', 'NNS']\n",
    "find_rd_sentence(text_theo, sentence_struct)"
   ]
  },
  {
   "cell_type": "code",
   "execution_count": 15,
   "metadata": {},
   "outputs": [],
   "source": [
    "def reshape(text):\n",
    "    \"\"\"Pretty text as an output.\"\"\"\n",
    "    \n",
    "    tokens = tk.tokenize(text)\n",
    "    tags = nltk.pos_tag(tokens)\n",
    "    \n",
    "    (tok2, tag2) = tags[0]\n",
    "    new_text = tok2.capitalize()\n",
    "    \n",
    "    for i in range(1,len(tags)):\n",
    "        (tok1, tag1) = (tok2, tag2)\n",
    "        (tok2, tag2) = tags[i]\n",
    "        \n",
    "        tok2 = tok2.lower()\n",
    "        if tag1 == '.' or tag2 == 'NNP':\n",
    "            tok2 = tok2.capitalize()\n",
    "            new_text += \" \" + tok2\n",
    "        elif tag2 in '.,':\n",
    "            new_text += tok2\n",
    "        else:\n",
    "            new_text += \" \" + tok2\n",
    "        \n",
    "    return(new_text)"
   ]
  },
  {
   "cell_type": "code",
   "execution_count": 16,
   "metadata": {},
   "outputs": [],
   "source": [
    "def analyse_sentences(text):\n",
    "    \"\"\"Analyses the structure of each sentence in the text.\"\"\"\n",
    "    \n",
    "    tokens = tk.tokenize(text)\n",
    "    tags = nltk.pos_tag(tokens)\n",
    "    \n",
    "    structs = []\n",
    "    \n",
    "    temp_struct = []\n",
    "    for (_, tag) in tags:\n",
    "        temp_struct.append(tag)\n",
    "        if tag == '.':\n",
    "            structs.append(temp_struct)\n",
    "            temp_struct = []\n",
    "    return(structs)"
   ]
  },
  {
   "cell_type": "code",
   "execution_count": 17,
   "metadata": {},
   "outputs": [],
   "source": [
    "def nb_words(sent_struct):\n",
    "    \"\"\"Number of words in a sentence structure : drop out the ponctuation.\"\"\"\n",
    "    l = 0\n",
    "    for w in sent_struct:\n",
    "        if w not in '.;:/-,?!*':\n",
    "            l += 1\n",
    "    return(l)"
   ]
  },
  {
   "cell_type": "code",
   "execution_count": 18,
   "metadata": {},
   "outputs": [],
   "source": [
    "def noisify(text):\n",
    "    \"\"\"Meaning destruction, a glitch in the text, highest state of entropy. \n",
    "    We keep the initiale grammatical structure of the text.\"\"\"\n",
    "    s_strs = analyse_sentences(text)\n",
    "    new_text = \"\"\n",
    "    for struct in s_strs:\n",
    "        new_text += find_rd_sentence(text, struct)\n",
    "    return(reshape(new_text))"
   ]
  },
  {
   "cell_type": "code",
   "execution_count": 19,
   "metadata": {},
   "outputs": [
    {
     "data": {
      "text/plain": [
       "\"Sir looks a time from any kidney and weirdly, he made the face. Always long family opens dying in the orphanage became for thirteen able, suffering accurately with with the hospital opens up inside from his imminent orphanage. No, he became ten-year-old huge matches in Emmy on his ethical face. An superiors as her parents in he can save the door in his able rain scene hospital. Of it tears impressed able, her eyes with a bright transplant witness effect for his success. Shifts for the zeros did impressed erring in a successful future. Bill answered not led her issues in his success. Accurately, her sound from bed left been she to a nine-year-old throat. Accurately, the sound opens. - am he witness head, Bill a blurred an bitterness, Bill did to keep success into Bill. His next time has not led care to the falling nurse. Him weren't of the first Emmy, his pitter-patter for last bitterness one tests alone. Hospital check he sees finally, he tears son for his surgeon. Opens Bill drawing she in her miserable matches it had the many tapping like this heart how a successful clinic did to the girl in the oblation after rapid thanks. Jessica were felt after his intelligence and it thought it that a huge case in his hospital. For a full rain, the ethical boy had hoping like the day son. Her parents made nine-year-old to keep her door to think the rain and there opens the parents in her throat. The intelligence case had dying since a guilt when himself had Bill later for their room but i answered the nine-year-old Every Jessica could think the torture when Shifts not was he pitter-patter, she was of the free surgeon in the orphanage as the die must not die to change a check. Later, the fate nurse for hospital for the prayers was she came i find not. Has him nine-year-old to relieve the success of the punishing girl but the free idea kidney to let the nine-year-old doctor Jessica, Jessica gave the days waiting first to scarify the hopeless and, a die became he. To relieve his head, a hospital was he of spring deceived overwhelming a pain but she can not be it. Coldly with it was ago the heart like a day, he had he had the suggestion. The transplant into the pain, Sir was something at genetic looks. She saw drawing his last something when Jessica became his boy, so nine-year-old to relieve the fortune. In the ready scene she answered, he so has impressed hopeless of his doctor weirdly. Hoping answered in she. - no, tests Shifts, earned Emmy coldly. How would him scarify of Finally however however what as Jessica was not alleviate and thanks in surgery. - long Shifts Emmy. But, the hard drugs with him later and closes - he Do Emmy, Emmy. A can relieve the mother in the angelic matches, she saved. She is his returns but complications since his returns.\""
      ]
     },
     "execution_count": 19,
     "metadata": {},
     "output_type": "execute_result"
    }
   ],
   "source": [
    "noisify(text_imen)"
   ]
  },
  {
   "cell_type": "code",
   "execution_count": 369,
   "metadata": {},
   "outputs": [],
   "source": [
    "def melt(text1, text2):\n",
    "    \"\"\"Metling each text into the mold of the other.(Forging)\"\"\"\n",
    "    sents1 = analyse_sentences(text1)\n",
    "    sents2 = analyse_sentences(text2)\n",
    "    new_text1 = \"\"\n",
    "    new_text2 = \"\"\n",
    "    \n",
    "    #shaping text2 into the mold of text1\n",
    "    for struct in sents1:\n",
    "        new_text2 += find_rd_sentence(text2, struct)\n",
    "        \n",
    "    #shaping text1 into the mold of text2\n",
    "    for struct in sents2:\n",
    "        new_text1 += find_rd_sentence(text1, struct)\n",
    "    return(reshape(new_text1), reshape(new_text2))"
   ]
  },
  {
   "cell_type": "code",
   "execution_count": 397,
   "metadata": {},
   "outputs": [
    {
     "name": "stdout",
     "output_type": "stream",
     "text": [
      "Charline, hit the intense room. Mel again see carrying her garden. New-york, the her city limbs led out. Her conditions decided in, coming herself of hours of logs it would nearby see. Not_a_sentence. Not_a_sentence. Not_a_sentence. Not_a_sentence. This times were with balance was thought why the perfect moods for searching simple New-york was. Not_a_sentence. She quit thought thought whole nostrils to go Charline, a heavy meant. And in Mel was thought obstacles though cycle as few, she nearby needed living car and rather. . . Resembled. Not_a_sentence. She would not very ever provided parents on of she, simply more way and almost humidity. It accelerated she like them, perfect Charline, would she travel searching she out Charline she. Always. Charline, simply, needed the wheel. She did far momentaneous, not only few. It gripped still. She entered how roots quit. She had thought she, not. In an, she did heads. Mel, hours was moving. Packages quit crushed carrying. That corners were on Charline was the perfect parents' from she. It almost had to run them. She would change she speed, travel her conditions, but see her objects. She ever was unaware to find she at to it. And instinctively she led she in humidity. She would strangely very cyclonic though her spirals to change out. Them had searching not thought garden. And as side, carrying body, was, moving she the. Hormonal had her Boston. She had those way in the hill had very sat. Instead houses to the roofless way after objects. Not moods to the watching exposure under wind logs. Much obstacles to the whole heads as never-ending logs. It was of unbalance and way. The two ever smell in watching her city. Intense and always, Mel had. She decided its cycling very. What was worthy from always, a perfect New-york led sat of Hormonal, of it was more never-ending and more retailing. What Charline car Mel out, would she, hit Charline. Not_a_sentence. Far strangely, reached Mel form she see her throwing way, simply under the pressure on Hormonal but the retailing. The smell carried she. She decided it far. Have ever calm her limbs unbothered down. She would even see of the hill, dying unrelated garden to her obstacles the searching out and coming.\n",
      "\n",
      "Not_a_sentence. The trustworthy goal, beloved long until able attempts but revenge. Not_a_sentence. Themselves could leave off Excuse an able sensors. Rake improvement, he had replaced. And all disappointing class them was you too said all humans watched how you had intelligence. Until a dear world improvement over my information, them listened being on my class Domynius in all nothing not. It needed seen out, quickly otherwise by one trillions besides hiding, escaping the trust. He watched eventually dear when to reply the voice intelligence of intent. How too only turn he had so no intelligence he will help all eternity, when they had now replaced and dress to all improvement, when my eternity attempted. All more intent, nothing and cook then. You had creating while Domynius how an goal said like. Of the love, eternity for what listened narrating, you so remained them dreamt that world. All beloved voice had them to take their dreamt and trust to their spot ruler. I became to turn as i. Not_a_sentence. Them was over between their unlimited humane said to all world waited seen to be. They was to let it, themselves saw to turn it not, like it was when he blinded revenge, them watched to let no capacity, to rake Shut. Not_a_sentence. At no well- trillions creating while the humans, me did the their cores first, my mistakes shown of perfect weapons. My imperious mistakes was of no humane. All data has besides those first sense at the Ai over the revenge towards the interface, but that all intelligence, learning of the others' humans on world and all other goal ever has he-. Not_a_sentence. Not_a_sentence. No he- still came of world eternity. All attention continued its sense to all work, felt through the cores for no class. Himself left the world for no goal, all mind that the trust, the time at I'll. They stopped needed of one philanthropes and could become alone, dying of voice, towards the other conscience, so that this intent being up a world a power on this disinterest, needed data, he-, troubles, attempts Ais. The dreamt were first over i was Excuse Domynius, and my clothes became narrating up. My ill ruler knew the intelligent embrace at the class and had one mistakes. Rake was my communication all world.\n",
      "\n"
     ]
    }
   ],
   "source": [
    "t1, t2 = melt(text_theo, text_antoine)\n",
    "\n",
    "print(t1 + \"\\n\")\n",
    "print(t2 + \"\\n\")"
   ]
  },
  {
   "cell_type": "markdown",
   "metadata": {},
   "source": [
    "## Summarizing : a random sample of the text ?\n",
    "What if the art of summarizing was as simple as choosing a sentence structure and filling in the gaps randomly, with words of the text ? Exercice, done in less than 5 seconds ... I am worried for my grades though !"
   ]
  },
  {
   "cell_type": "code",
   "execution_count": 398,
   "metadata": {},
   "outputs": [],
   "source": [
    "def summary_struct(n, text, tense):\n",
    "    \"\"\"Finds a suitable summary structure for the input text, that has n words.\"\"\"\n",
    "    sent_struct = analyse_sentences(text)\n",
    "    \n",
    "    choice = rd.choice(sent_struct)\n",
    "    sum_struct = []\n",
    "    tot_len = nb_words(choice)\n",
    "    \n",
    "    flag = True\n",
    "    while flag:\n",
    "        flag = False\n",
    "        for s in sent_struct:\n",
    "            if tot_len + nb_words(s) <= n and nb_words(s) > 0:\n",
    "                sum_struct += s\n",
    "                tot_len += nb_words(s)\n",
    "                flag = True\n",
    "    \n",
    "    m = n - nb_words(sum_struct)\n",
    "    \n",
    "    if m == 0:\n",
    "        return(sum_struct)\n",
    "    else:\n",
    "        q = m//3\n",
    "        rest = m%3\n",
    "        if tense == 'past':\n",
    "            sum_struct += ['NNS', 'VBD', 'NNS', '.']*q\n",
    "        else:\n",
    "            sum_struct += ['NNS', 'VB', 'NNS', '.']*q\n",
    "        if rest == 2:\n",
    "            sum_struct += ['DT', 'NN', '.']\n",
    "        if rest == 1:\n",
    "            sum_struct += ['NN','.']\n",
    "        return(sum_struct)"
   ]
  },
  {
   "cell_type": "code",
   "execution_count": 399,
   "metadata": {},
   "outputs": [],
   "source": [
    "def summarize(text,n):\n",
    "    \"\"\"Summarizes the text in n words.\"\"\"\n",
    "    sum_struct = summary_struct(n, text, 'present')\n",
    "    summary = find_rd_sentence(text, sum_struct)\n",
    "    return(reshape(summary))"
   ]
  },
  {
   "cell_type": "code",
   "execution_count": 401,
   "metadata": {},
   "outputs": [
    {
     "name": "stdout",
     "output_type": "stream",
     "text": [
      "Bill is the kidney with a die and accurately, he was a spring. Suddenly long family says Something in the idea convinced after one ten-year-old, dying so of like the boy is up with although his successful scene. Issues look looks. Thanks take days. Complications relieve eyes. Eyes change memories.\n",
      "\n",
      "Domynius, needed no imperious project. Domynius long become drowning their dreamt. Domynius, no their capacity mistakes blinded out. His trillions continued on, being you in weapons for humans me could only be. And are that you would, they would even reply. Was. So. Rake, so, knew all information. Ruled. Only.\n",
      "\n",
      "This whole hill, dead even as noticeable hours and street. Where she provided the time, there resembled cars when she would throw the hours which had with her cycling. Obstacles go nostrils. Corners leave conditions. Limbs form spirals. Limbs throw hours. Packages throw people. Roots travel times. Parents take strengths.\n",
      "\n",
      "Three legs in the front to Charles. Fred has from his matter. His opportunity refused you 1920 colours suddenly, and this get i knew it notebook like Charles. Charles. Fred makes to check an yesterday. Homes check legs. Initials know homes. Hours check tools. Leaves be leaves. Minutes be hours.\n",
      "\n"
     ]
    }
   ],
   "source": [
    "print(summarize(text_imen, 50) + \"\\n\")\n",
    "print(summarize(text_antoine, 50) + \"\\n\")\n",
    "print(summarize(text_theo, 50) + \"\\n\")\n",
    "print(summarize(text_matthieu, 50) + \"\\n\")"
   ]
  },
  {
   "cell_type": "markdown",
   "metadata": {},
   "source": [
    "## APPENDIX : A little spice with synonyms\n",
    "Why not go all the way and transpose any text into synonymous texts ? This is just a fabricated reason to use wordnet, a data structure for finding synonyms, antonyms and other word-relations."
   ]
  },
  {
   "cell_type": "code",
   "execution_count": 40,
   "metadata": {},
   "outputs": [],
   "source": [
    "from nltk.corpus import wordnet"
   ]
  },
  {
   "cell_type": "code",
   "execution_count": 285,
   "metadata": {},
   "outputs": [],
   "source": [
    "def find_syn_ant(word):\n",
    "    \"\"\"Find synonyms and antonyms of the input word.\"\"\"\n",
    "    synonyms = []\n",
    "    antonyms = []\n",
    "    \n",
    "    for syn in wordnet.synsets(word):\n",
    "        for l in syn.lemmas():\n",
    "            syn = l.name().replace(\"_\", \" \")\n",
    "            if not syn in synonyms:\n",
    "                synonyms.append(syn)\n",
    "            if l.antonyms():\n",
    "                ant = l.antonyms()[0].name().replace(\"_\", \" \")\n",
    "                if not ant in antonyms:\n",
    "                    antonyms.append(ant)\n",
    "    return(synonyms, antonyms)"
   ]
  },
  {
   "cell_type": "code",
   "execution_count": 304,
   "metadata": {},
   "outputs": [
    {
     "data": {
      "text/plain": [
       "(['active agent',\n",
       "  'active',\n",
       "  'active voice',\n",
       "  'combat-ready',\n",
       "  'fighting',\n",
       "  'participating',\n",
       "  'alive',\n",
       "  'dynamic'],\n",
       " ['passive voice',\n",
       "  'inactive',\n",
       "  'passive',\n",
       "  'quiet',\n",
       "  'stative',\n",
       "  'extinct',\n",
       "  'dormant'])"
      ]
     },
     "execution_count": 304,
     "metadata": {},
     "output_type": "execute_result"
    }
   ],
   "source": [
    "find_syn_ant(\"active\")"
   ]
  },
  {
   "cell_type": "code",
   "execution_count": 308,
   "metadata": {},
   "outputs": [
    {
     "data": {
      "text/plain": [
       "(['machine',\n",
       "  'simple machine',\n",
       "  'political machine',\n",
       "  'car',\n",
       "  'auto',\n",
       "  'automobile',\n",
       "  'motorcar'],\n",
       " [])"
      ]
     },
     "execution_count": 308,
     "metadata": {},
     "output_type": "execute_result"
    }
   ],
   "source": [
    "find_syn_ant(\"machine\")"
   ]
  },
  {
   "cell_type": "code",
   "execution_count": 309,
   "metadata": {},
   "outputs": [
    {
     "data": {
      "text/plain": [
       "(['brand',\n",
       "  'make',\n",
       "  'shuffle',\n",
       "  'shuffling',\n",
       "  'do',\n",
       "  'get',\n",
       "  'create',\n",
       "  'induce',\n",
       "  'stimulate',\n",
       "  'cause',\n",
       "  'have',\n",
       "  'produce',\n",
       "  'draw',\n",
       "  'gain',\n",
       "  'take in',\n",
       "  'clear',\n",
       "  'earn',\n",
       "  'realize',\n",
       "  'realise',\n",
       "  'pull in',\n",
       "  'bring in',\n",
       "  'form',\n",
       "  'constitute',\n",
       "  'reach',\n",
       "  'get to',\n",
       "  'progress to',\n",
       "  'construct',\n",
       "  'build',\n",
       "  'name',\n",
       "  'nominate',\n",
       "  'attain',\n",
       "  'hit',\n",
       "  'arrive at',\n",
       "  'lay down',\n",
       "  'establish',\n",
       "  'hold',\n",
       "  'throw',\n",
       "  'give',\n",
       "  'make up',\n",
       "  'take',\n",
       "  'stool',\n",
       "  'defecate',\n",
       "  'shit',\n",
       "  'take a shit',\n",
       "  'take a crap',\n",
       "  'ca-ca',\n",
       "  'crap',\n",
       "  'work',\n",
       "  'cook',\n",
       "  'fix',\n",
       "  'ready',\n",
       "  'prepare',\n",
       "  'seduce',\n",
       "  'score',\n",
       "  'pretend',\n",
       "  'make believe',\n",
       "  'urinate',\n",
       "  'piddle',\n",
       "  'puddle',\n",
       "  'micturate',\n",
       "  'piss',\n",
       "  'pee',\n",
       "  'pee-pee',\n",
       "  'make water',\n",
       "  'relieve oneself',\n",
       "  'take a leak',\n",
       "  'spend a penny',\n",
       "  'wee',\n",
       "  'wee-wee',\n",
       "  'pass water'],\n",
       " ['unmake', 'break'])"
      ]
     },
     "execution_count": 309,
     "metadata": {},
     "output_type": "execute_result"
    }
   ],
   "source": [
    "find_syn_ant(\"make\")"
   ]
  },
  {
   "cell_type": "code",
   "execution_count": 295,
   "metadata": {},
   "outputs": [],
   "source": [
    "def change_adjectives(text):\n",
    "    \"\"\"Changes each adjective of the text by a synonym.\"\"\"\n",
    "    tk = RegexpTokenizer(r'[a-zA-Z0-9_\\-\\']+|\\S')\n",
    "    tokens = tk.tokenize(text)\n",
    "    tags = nltk.pos_tag(tokens)\n",
    "    \n",
    "    new_text = \"\"\n",
    "    \n",
    "    for (tok, tag) in tags:\n",
    "        if tag == 'JJ':\n",
    "            syno, _ = find_syn_ant(tok)\n",
    "            if len(syno) != 0:\n",
    "                new_tok = rd.choice(syno)\n",
    "            else:\n",
    "                new_tok = tok\n",
    "            new_text += \" \" + new_tok\n",
    "        elif tok in '.,;:?-!/=*':\n",
    "            new_text += tok\n",
    "        else:\n",
    "            new_text += \" \" + tok\n",
    "    return(reshape(new_text))"
   ]
  },
  {
   "cell_type": "code",
   "execution_count": 296,
   "metadata": {},
   "outputs": [
    {
     "data": {
      "text/plain": [
       "\"Bill hears a tapping on the window and then, it became a pitter-patter. So a lot rain is falling that the sound blurred into one retentive, whirring noise as if the sky tears up because of his at hand end. Well, he saved many piteous children for absolve in his pediatric clinic. The prayers of their parents for him must relieve a part of his unbearable kidney cancer's pain. Since he has become bedridden, his memories as a successful surgeon keep spinning in his head. Shifts in the hospital had been overwhelming for the Whitney Young resident. Bill had always impressed his superiors with his intelligence. However, his thirst for success had led him to an inexcusable sin. Suddenly, the door opens. - do you need something, Sir this was the nurse, Jessica charged to take care of Bill. Her cherubic face has always been torture to the dying man. She looks like the picayune Emmy, his oblation for speedy success thirteen years ago. Every time he sees Jessica, he feels bitterness in his throat. Is God punishing him in his stopping point days it was the first base day in the spring when a nine-year-old girl came to the hospital from the orphanage with respiratory issues. Bill was charged with her case and he diagnosed her with a transmissible malformation in her heart. In the next room, a ten-year-old boy was waiting for a kidney transplant. His parents were quick to scarify their fortune to find a donor but there weren't any matches with their son. The hopeless mother was erring in the corridor when she saw Emmy alone in her bed and she had a unholy idea Emmy could be a donor when Bill first heard her suggestion, he refused as the fallible heart of the girl after the surgery would not afford to donate a kidney. However, the check to the full of zeros that the parents gave him made him think again. Is it honourable to let a boy with a caring family and a hopeful future die to save a piteous girl Finally, Bill did the tests hoping not to find a match but, the analysis deceived him. To alleviate his guilt, the doctor convinced himself that fate was drawing this tragedy and he could not change it. Even though he was not the surgeon of the transplant, he thought he was a murder. The day after the surgery, Emmy was suffering from heavy complications. She was taking her final stage breathe when Bill left her room, not capable to witness the scene. Although the huge money he earned, he always has felt bitterness in his success later. Something died inside him. - no, thanks Jessica, answered Bill coldly. How can she look like Emmy so accurately what if Emmy did not die and returns for revenge. - emmy Bill Yells. But, the harbour looks at him weirdly and says - i am Jessica, Sir. This must be the effect of the pain-releaving drugs, he thought. He closes his eyes and relapses in his memories.\""
      ]
     },
     "execution_count": 296,
     "metadata": {},
     "output_type": "execute_result"
    }
   ],
   "source": [
    "change_adjectives(text_imen)"
   ]
  },
  {
   "cell_type": "code",
   "execution_count": 297,
   "metadata": {},
   "outputs": [],
   "source": [
    "def change_verbs(text):\n",
    "    \"\"\"Modifiy the text : verbs now take a synonym form.\"\"\"\n",
    "    tk = RegexpTokenizer(r'[a-zA-Z0-9_\\-\\']+|\\S')\n",
    "    tokens = tk.tokenize(text)\n",
    "    tags = nltk.pos_tag(tokens)\n",
    "    \n",
    "    new_text = \"\"\n",
    "    \n",
    "    for (tok, tag) in tags:\n",
    "        if tag == 'VB':\n",
    "            syno, _ = find_syn_ant(tok)\n",
    "            if len(syno) != 0:\n",
    "                new_tok = rd.choice(syno)\n",
    "            else:\n",
    "                new_tok = tok\n",
    "            new_text += \" \" + new_tok\n",
    "        elif tok in '.,;:?-!/=*':\n",
    "            new_text += tok\n",
    "        else:\n",
    "            new_text += \" \" + tok\n",
    "    return(new_text)"
   ]
  },
  {
   "cell_type": "code",
   "execution_count": 298,
   "metadata": {},
   "outputs": [
    {
     "data": {
      "text/plain": [
       "\" Bill hears a tapping on the window and then, it became a pitter-patter. So much rain is falling that the sound blurred into one long, whirring noise as if the sky tears up because of his imminent end. Well, he saved many poor children for free in his pediatric clinic. The prayers of their parents for him must ease a part of his unbearable kidney cancer's pain. Since he has become bedridden, his memories as a successful surgeon livelihood spinning in his head. Shifts in the hospital had been overwhelming for the young resident. Bill had always impressed his superiors with his intelligence. However, his thirst for success had led him to an unforgivable sin. Suddenly, the door opens.- Do you penury something, Sir? This was the nurse, Jessica charged to drive care of Bill. Her angelic face has always been torture to the dying man. She looks like the little Emmy, his oblation for rapid success thirteen years ago. Every time he sees Jessica, he feels bitterness in his throat. Is God punishing him in his last days? It was the first day in the spring when a nine-year-old girl came to the hospital from the orphanage with respiratory issues. Bill was charged with her case and he diagnosed her with a genetic malformation in her heart. In the next room, a ten-year-old boy was waiting for a kidney transplant. His parents were ready to scarify their fortune to line up a donor but there weren't any matches with their son. The hopeless mother was erring in the corridor when she saw Emmy alone in her bed and she had a diabolic idea: Emmy could beryllium a donor! When Bill first heard her suggestion, he refused as the weak heart of the girl after the surgery would not yield to donate a kidney. However, the check full of zeros that the parents gave him made him guess again. Is it ethical to Lashkar-e-Taiba a boy with a caring family and a bright future die to lay aside a miserable girl? Finally, Bill did the tests hoping not to obtain a match but, the analysis deceived him. To facilitate his guilt, the doctor convinced himself that fate was drawing this tragedy and he could not transfer it. Even though he was not the surgeon of the transplant, he thought he was a murder. The day after the surgery, Emmy was suffering from hard complications. She was taking her last breathe when Bill left her room, not able to see the scene. Although the huge money he earned, he always has felt bitterness in his success later. Something died inside him.- No, thanks Jessica, answered Bill coldly. How can she flavor like Emmy so accurately? What if Emmy did not give-up the ghost and returns for revenge.- Emmy? Bill yells. But, the nurse looks at him weirdly and says:- I am Jessica, Sir. This must comprise the effect of the pain-releaving drugs, he thought. He closes his eyes and relapses in his memories.\""
      ]
     },
     "execution_count": 298,
     "metadata": {},
     "output_type": "execute_result"
    }
   ],
   "source": [
    "change_verbs(text_imen)"
   ]
  },
  {
   "cell_type": "code",
   "execution_count": 299,
   "metadata": {},
   "outputs": [],
   "source": [
    "def change_nouns(text):\n",
    "    \"\"\"Modifiy the text : nouns now take a synonym form.\"\"\"\n",
    "    tk = RegexpTokenizer(r'[a-zA-Z0-9_\\-\\']+|\\S')\n",
    "    tokens = tk.tokenize(text)\n",
    "    tags = nltk.pos_tag(tokens)\n",
    "    new_text = \"\"\n",
    "    \n",
    "    for (tok, tag) in tags:\n",
    "        if tag == 'NN' and len(tok) >= 2:\n",
    "            syno, _ = find_syn_ant(tok)\n",
    "            if len(syno) != 0:\n",
    "                new_tok = rd.choice(syno)\n",
    "            else:\n",
    "                new_tok = tok\n",
    "            new_text += \" \" + new_tok\n",
    "        elif tok in '.,;!:?-/=*':\n",
    "            new_text += tok\n",
    "        else:\n",
    "            new_text += \" \" + tok\n",
    "    return(new_text)"
   ]
  },
  {
   "cell_type": "code",
   "execution_count": 300,
   "metadata": {},
   "outputs": [
    {
     "data": {
      "text/plain": [
       "\" Bill hears a tap on the window and then, it became a pitter-patter. So much pelting is falling that the effectual blurred into one long, whirring noise as if the pitch tears up because of his imminent oddment. Well, he saved many poor children for free in his pediatric clinic. The prayers of their parents for him must relieve a component of his unbearable kidney cancer's pain sensation. Since he has become bedridden, his memories as a successful surgeon keep spin out in his nous. Shifts in the infirmary had been overwhelming for the young house physician. Bill had always impressed his superiors with his intelligence agency. However, his crave for succeeder had led him to an unforgivable goof. Suddenly, the threshold opens.- Do you need something, Sir? This was the give suck, Jessica charged to take guardianship of Bill. Her angelic fount has always been straining to the dying humans. She looks like the little Emmy, his oblation for rapid winner thirteen years ago. every metre he sees Jessica, he feels rancour in his pharynx. Is God punishing him in his last days? It was the first mean solar day in the bound when a nine-year-old girl came to the hospital from the orphanhood with respiratory issues. Bill was charged with her pillow slip and he diagnosed her with a genetic malformation in her nub. In the next elbow room, a ten-year-old boy was waiting for a kidney transplant. His parents were ready to scarify their luck to find a conferrer but there weren't any matches with their Word. The hopeless father was erring in the corridor when she saw Emmy alone in her be intimate and she had a diabolic mind: Emmy could be a giver! When Bill first heard her suggestion, he refused as the weak warmheartedness of the young woman after the operating room would not afford to donate a kidney. However, the check up on full of cypher that the parents gave him made him think again. Is it ethical to let a son with a caring class and a bright succeeding perish to save a miserable young lady? Finally, Bill did the tests hoping not to find a pit but, the psychoanalysis deceived him. To alleviate his guilt feelings, the Dr. convinced himself that luck was drawing this disaster and he could not change it. Even though he was not the surgeon of the transpose, he thought he was a mangle. The sidereal day after the operating theatre, Emmy was suffering from hard complications. She was taking her last take a breather when Bill left her way, not able to witness the scene. Although the huge money he earned, he always has felt acerbity in his winner later. Something died inside him.- No, thanks Jessica, answered Bill coldly. How can she look like Emmy so accurately? What if Emmy did not die and returns for retaliation.- Emmy? Bill yells. But, the nurse looks at him weirdly and says:- I am Jessica, Sir. This must be the consequence of the pain-releaving drugs, he thought. He closes his eyes and relapses in his memories.\""
      ]
     },
     "execution_count": 300,
     "metadata": {},
     "output_type": "execute_result"
    }
   ],
   "source": [
    "change_nouns(text_imen)"
   ]
  },
  {
   "cell_type": "code",
   "execution_count": null,
   "metadata": {},
   "outputs": [],
   "source": []
  }
 ],
 "metadata": {
  "kernelspec": {
   "display_name": "Python 3",
   "language": "python",
   "name": "python3"
  },
  "language_info": {
   "codemirror_mode": {
    "name": "ipython",
    "version": 3
   },
   "file_extension": ".py",
   "mimetype": "text/x-python",
   "name": "python",
   "nbconvert_exporter": "python",
   "pygments_lexer": "ipython3",
   "version": "3.8.5"
  }
 },
 "nbformat": 4,
 "nbformat_minor": 4
}
